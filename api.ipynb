{
 "cells": [
  {
   "cell_type": "markdown",
   "metadata": {},
   "source": [
    "# core\n",
    "\n",
    "> Fill in a module description here"
   ]
  },
  {
   "cell_type": "code",
   "execution_count": null,
   "metadata": {},
   "outputs": [],
   "source": [
    "#| default_exp api"
   ]
  },
  {
   "cell_type": "code",
   "execution_count": null,
   "metadata": {},
   "outputs": [],
   "source": [
    "#| hide\n",
    "from nbdev.showdoc import *\n"
   ]
  },
  {
   "cell_type": "code",
   "execution_count": null,
   "metadata": {},
   "outputs": [],
   "source": [
    "#| export\n",
    "import numpy as np\n",
    "from PIL import Image\n",
    "from PIL import ImageFile\n",
    "ImageFile.LOAD_TRUNCATED_IMAGES = True\n",
    "import torch\n",
    "from urllib import request\n",
    "import json\n",
    "import requests\n",
    "import os\n",
    "import warnings\n",
    "warnings.filterwarnings(\"ignore\")\n",
    "from pylsd.lsd import lsd\n",
    "import cv2\n",
    "from scipy.signal import argrelmin, argrelmax\n",
    "import statistics\n",
    "\n",
    "import matplotlib.pyplot as plt\n",
    "import matplotlib.image as mpimg"
   ]
  },
  {
   "cell_type": "code",
   "execution_count": null,
   "metadata": {},
   "outputs": [],
   "source": [
    "# %matplotlib inline"
   ]
  },
  {
   "cell_type": "code",
   "execution_count": null,
   "metadata": {},
   "outputs": [],
   "source": [
    "#| export\n",
    "class ApiClient:\n",
    "    def __init__(self, path, tmp_dir = \"tmp\"):\n",
    "        self.input_path = path\n",
    "        self.tmp_dir = tmp_dir\n",
    "        os.makedirs(tmp_dir, exist_ok=True)\n",
    "        pass\n",
    "\n",
    "    @staticmethod\n",
    "    def main(path, tmp_dir = \"tmp\"):\n",
    "        ins = ApiClient(path, tmp_dir)\n",
    "        otsu_path = tmp_dir + \"/otsu.png\"\n",
    "        ApiClient.otsu(path, otsu_path)\n",
    "        # self.path = path\n",
    "\n",
    "    @staticmethod\n",
    "    def otsu(input_path, output_path):\n",
    "        '''\n",
    "        大津の二値化\n",
    "        '''\n",
    "\n",
    "        img = cv2.imread(input_path)\n",
    "        gray = cv2.cvtColor(img,cv2.COLOR_BGR2GRAY)\n",
    "\n",
    "        ret2, img_otsu = cv2.threshold(gray, 0, 255, cv2.THRESH_OTSU)\n",
    "\n",
    "        cv2.imwrite(output_path, img_otsu)\n",
    "\n",
    "        # otsu_path = self.tmp_dir + \"/otsu.jpg\"\n",
    "        # cv2.imwrite(otsu_path, img_otsu)\n",
    "        # self.otsu_path = otsu_path\n",
    "\n",
    "    @staticmethod\n",
    "    def skelton(input_path, output_path):\n",
    "        '''\n",
    "        細線化\n",
    "        '''\n",
    "\n",
    "        img = cv2.imread(input_path)\n",
    "        gray = cv2.cvtColor(img,cv2.COLOR_BGR2GRAY)\n",
    "\n",
    "        # 二値画像反転\n",
    "        image = cv2.bitwise_not(gray)\n",
    "\n",
    "        skelton = cv2.ximgproc.thinning(image, thinningType=cv2.ximgproc.THINNING_ZHANGSUEN)\n",
    "\n",
    "        cv2.imwrite(output_path, skelton)"
   ]
  },
  {
   "cell_type": "code",
   "execution_count": null,
   "metadata": {},
   "outputs": [
    {
     "data": {
      "text/markdown": [
       "---\n",
       "\n",
       "### ApiClient\n",
       "\n",
       ">      ApiClient (path, tmp_dir='tmp')\n",
       "\n",
       "Initialize self.  See help(type(self)) for accurate signature."
      ],
      "text/plain": [
       "---\n",
       "\n",
       "### ApiClient\n",
       "\n",
       ">      ApiClient (path, tmp_dir='tmp')\n",
       "\n",
       "Initialize self.  See help(type(self)) for accurate signature."
      ]
     },
     "execution_count": null,
     "metadata": {},
     "output_type": "execute_result"
    }
   ],
   "source": [
    "show_doc(ApiClient)"
   ]
  },
  {
   "cell_type": "code",
   "execution_count": null,
   "metadata": {},
   "outputs": [],
   "source": [
    "path = \"data/612110.jpeg\"\n",
    "ins = ApiClient(path)\n"
   ]
  },
  {
   "cell_type": "code",
   "execution_count": null,
   "metadata": {},
   "outputs": [
    {
     "data": {
      "text/markdown": [
       "---\n",
       "\n",
       "### ApiClient.otsu\n",
       "\n",
       ">      ApiClient.otsu (input_path, output_path)\n",
       "\n",
       "大津の二値化"
      ],
      "text/plain": [
       "---\n",
       "\n",
       "### ApiClient.otsu\n",
       "\n",
       ">      ApiClient.otsu (input_path, output_path)\n",
       "\n",
       "大津の二値化"
      ]
     },
     "execution_count": null,
     "metadata": {},
     "output_type": "execute_result"
    }
   ],
   "source": [
    "show_doc(ApiClient.otsu)"
   ]
  },
  {
   "cell_type": "code",
   "execution_count": null,
   "metadata": {},
   "outputs": [],
   "source": [
    "otsu_path = \"tmp/otsu.jpg\"\n",
    "ApiClient.otsu(path, otsu_path)"
   ]
  },
  {
   "cell_type": "code",
   "execution_count": null,
   "metadata": {},
   "outputs": [
    {
     "data": {
      "text/plain": [
       "<matplotlib.image.AxesImage>"
      ]
     },
     "execution_count": null,
     "metadata": {},
     "output_type": "execute_result"
    },
    {
     "data": {
      "image/png": "[encoded data removed]",
      "text/plain": [
       "<Figure size 640x480 with 1 Axes>"
      ]
     },
     "metadata": {},
     "output_type": "display_data"
    }
   ],
   "source": [
    "plt.imshow(mpimg.imread(otsu_path),cmap=\"gray\")"
   ]
  },
  {
   "cell_type": "code",
   "execution_count": null,
   "metadata": {},
   "outputs": [
    {
     "data": {
      "text/markdown": [
       "---\n",
       "\n",
       "### ApiClient.skelton\n",
       "\n",
       ">      ApiClient.skelton (input_path, output_path)\n",
       "\n",
       "細線化"
      ],
      "text/plain": [
       "---\n",
       "\n",
       "### ApiClient.skelton\n",
       "\n",
       ">      ApiClient.skelton (input_path, output_path)\n",
       "\n",
       "細線化"
      ]
     },
     "execution_count": null,
     "metadata": {},
     "output_type": "execute_result"
    }
   ],
   "source": [
    "show_doc(ApiClient.skelton)"
   ]
  },
  {
   "cell_type": "code",
   "execution_count": null,
   "metadata": {},
   "outputs": [],
   "source": [
    "skelton_path = \"tmp/skelton.jpg\"\n",
    "ApiClient.otsu(otsu_path, skelton_path)"
   ]
  },
  {
   "cell_type": "code",
   "execution_count": null,
   "metadata": {},
   "outputs": [
    {
     "data": {
      "text/plain": [
       "<matplotlib.image.AxesImage>"
      ]
     },
     "execution_count": null,
     "metadata": {},
     "output_type": "execute_result"
    },
    {
     "data": {
      "image/png": "[encoded data removed]",
      "text/plain": [
       "<Figure size 640x480 with 1 Axes>"
      ]
     },
     "metadata": {},
     "output_type": "display_data"
    }
   ],
   "source": [
    "plt.imshow(mpimg.imread(skelton_path),cmap=\"gray\")"
   ]
  },
  {
   "cell_type": "code",
   "execution_count": null,
   "metadata": {},
   "outputs": [],
   "source": [
    "#| hide\n",
    "import nbdev; nbdev.nbdev_export()"
   ]
  }
 ],
 "metadata": {
  "kernelspec": {
   "display_name": "Python 3.7.13 ('base')",
   "language": "python",
   "name": "python3"
  }
 },
 "nbformat": 4,
 "nbformat_minor": 4
}
