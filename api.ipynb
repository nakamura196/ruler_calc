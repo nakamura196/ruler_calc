{
 "cells": [
  {
   "cell_type": "markdown",
   "metadata": {},
   "source": [
    "# core\n",
    "\n",
    "> Fill in a module description here"
   ]
  },
  {
   "cell_type": "code",
   "execution_count": null,
   "metadata": {},
   "outputs": [],
   "source": [
    "#| default_exp api"
   ]
  },
  {
   "cell_type": "code",
   "execution_count": null,
   "metadata": {},
   "outputs": [],
   "source": [
    "#| hide\n",
    "from nbdev.showdoc import *\n"
   ]
  },
  {
   "cell_type": "code",
   "execution_count": null,
   "metadata": {},
   "outputs": [],
   "source": [
    "#| export\n",
    "import numpy as np\n",
    "from PIL import Image, ImageFile\n",
    "ImageFile.LOAD_TRUNCATED_IMAGES = True\n",
    "import json\n",
    "import os\n",
    "from pylsd.lsd import lsd\n",
    "import cv2\n",
    "from scipy.signal import argrelmin, argrelmax\n",
    "import statistics\n",
    "import matplotlib.pyplot as plt\n",
    "import matplotlib.image as mpimg"
   ]
  },
  {
   "cell_type": "code",
   "execution_count": null,
   "metadata": {},
   "outputs": [],
   "source": [
    "#| export\n",
    "class ApiClient:\n",
    "    def __init__(self, path, tmp_dir = \"tmp\", isHorizontal = True):\n",
    "        self.input_path = path\n",
    "        self.tmp_dir = tmp_dir\n",
    "        self.isHorizontal = isHorizontal\n",
    "        os.makedirs(tmp_dir, exist_ok=True)\n",
    "        pass\n",
    "\n",
    "    def main2(self):\n",
    "        '''\n",
    "        メイン処理\n",
    "        '''\n",
    "        self.otsu()\n",
    "        self.skelton()\n",
    "        self.hlsd()\n",
    "\n",
    "    @staticmethod\n",
    "    def main(path, tmp_dir = \"tmp\", isHorizontal = True):\n",
    "        ins = ApiClient(path, tmp_dir = tmp_dir, isHorizontal = isHorizontal)\n",
    "        ins.main2()\n",
    "\n",
    "    \n",
    "    def otsu(self):\n",
    "        '''\n",
    "        大津の二値化\n",
    "        '''\n",
    "\n",
    "        img = cv2.imread(self.input_path)\n",
    "        gray = cv2.cvtColor(img,cv2.COLOR_BGR2GRAY)\n",
    "\n",
    "        ret2, img_otsu = cv2.threshold(gray, 0, 255, cv2.THRESH_OTSU)\n",
    "\n",
    "        # cv2.imwrite(output_path, img_otsu)\n",
    "\n",
    "        otsu_path = self.tmp_dir + \"/otsu.jpg\"\n",
    "        cv2.imwrite(otsu_path, img_otsu)\n",
    "        self.otsu_path = otsu_path\n",
    "\n",
    "    def skelton(self):\n",
    "        '''\n",
    "        細線化\n",
    "        '''\n",
    "\n",
    "        img = cv2.imread(self.otsu_path)\n",
    "        gray = cv2.cvtColor(img,cv2.COLOR_BGR2GRAY)\n",
    "\n",
    "        # 二値画像反転\n",
    "        image = cv2.bitwise_not(gray)\n",
    "\n",
    "        skelton = cv2.ximgproc.thinning(image, thinningType=cv2.ximgproc.THINNING_ZHANGSUEN)\n",
    "\n",
    "        output_path = self.tmp_dir + \"/skelton.jpg\"\n",
    "\n",
    "        cv2.imwrite(output_path, skelton)\n",
    "\n",
    "        self.skelton_path = output_path\n",
    "\n",
    "    def hlsd(self, isHorizontal = True):\n",
    "        '''\n",
    "        LSDを使って横線を抽出\n",
    "        '''\n",
    "\n",
    "        img = cv2.imread(self.input_path)\n",
    "        gray = cv2.cvtColor(img,cv2.COLOR_BGR2GRAY)\n",
    "\n",
    "        # 二値画像反転\n",
    "        image = cv2.bitwise_not(gray)\n",
    "\n",
    "        # 画像をグレースケールに変換\n",
    "        gray = cv2.cvtColor(img, cv2.COLOR_BGR2GRAY)\n",
    "\n",
    "        # LSDを使って線分を抽出\n",
    "        lines = lsd(gray)\n",
    "\n",
    "        # 抽出した線分を描画\n",
    "        for i in range(lines.shape[0]):\n",
    "            pt1 = (int(lines[i, 0]), int(lines[i, 1]))\n",
    "            pt2 = (int(lines[i, 2]), int(lines[i, 3]))\n",
    "            width = lines[i, 4]\n",
    "            cv2.line(img, pt1, pt2, (0, 0, 255), int(np.ceil(width / 2)))\n",
    "\n",
    "        # 画像を表示\n",
    "        cv2.imwrite(self.tmp_dir + \"/hlsd.jpg\", img)\n",
    "\n",
    "        # 横線のみ抽出\n",
    "        if isHorizontal:\n",
    "            lines = lines[lines[:, 1] == lines[:, 3]]\n",
    "\n",
    "        return lines"
   ]
  },
  {
   "cell_type": "code",
   "execution_count": null,
   "metadata": {},
   "outputs": [
    {
     "data": {
      "text/markdown": [
       "---\n",
       "\n",
       "### ApiClient\n",
       "\n",
       ">      ApiClient (path, tmp_dir='tmp')\n",
       "\n",
       "Initialize self.  See help(type(self)) for accurate signature."
      ],
      "text/plain": [
       "---\n",
       "\n",
       "### ApiClient\n",
       "\n",
       ">      ApiClient (path, tmp_dir='tmp')\n",
       "\n",
       "Initialize self.  See help(type(self)) for accurate signature."
      ]
     },
     "execution_count": null,
     "metadata": {},
     "output_type": "execute_result"
    }
   ],
   "source": [
    "show_doc(ApiClient)"
   ]
  },
  {
   "cell_type": "code",
   "execution_count": null,
   "metadata": {},
   "outputs": [],
   "source": [
    "path = \"data/612110.jpeg\"\n",
    "ins = ApiClient(path)\n"
   ]
  },
  {
   "cell_type": "code",
   "execution_count": null,
   "metadata": {},
   "outputs": [
    {
     "data": {
      "text/markdown": [
       "---\n",
       "\n",
       "### ApiClient.otsu\n",
       "\n",
       ">      ApiClient.otsu ()\n",
       "\n",
       "大津の二値化"
      ],
      "text/plain": [
       "---\n",
       "\n",
       "### ApiClient.otsu\n",
       "\n",
       ">      ApiClient.otsu ()\n",
       "\n",
       "大津の二値化"
      ]
     },
     "execution_count": null,
     "metadata": {},
     "output_type": "execute_result"
    }
   ],
   "source": [
    "show_doc(ApiClient.otsu)"
   ]
  },
  {
   "cell_type": "code",
   "execution_count": null,
   "metadata": {},
   "outputs": [],
   "source": [
    "ins.otsu()"
   ]
  },
  {
   "cell_type": "code",
   "execution_count": null,
   "metadata": {},
   "outputs": [
    {
     "data": {
      "text/plain": [
       "<matplotlib.image.AxesImage>"
      ]
     },
     "execution_count": null,
     "metadata": {},
     "output_type": "execute_result"
    },
    {
     "data": {
      "image/png": "[encoded data removed]",
      "text/plain": [
       "<Figure size 640x480 with 1 Axes>"
      ]
     },
     "metadata": {},
     "output_type": "display_data"
    }
   ],
   "source": [
    "plt.imshow(mpimg.imread(ins.otsu_path),cmap=\"gray\")"
   ]
  },
  {
   "cell_type": "code",
   "execution_count": null,
   "metadata": {},
   "outputs": [
    {
     "data": {
      "text/markdown": [
       "---\n",
       "\n",
       "### ApiClient.skelton\n",
       "\n",
       ">      ApiClient.skelton ()\n",
       "\n",
       "細線化"
      ],
      "text/plain": [
       "---\n",
       "\n",
       "### ApiClient.skelton\n",
       "\n",
       ">      ApiClient.skelton ()\n",
       "\n",
       "細線化"
      ]
     },
     "execution_count": null,
     "metadata": {},
     "output_type": "execute_result"
    }
   ],
   "source": [
    "show_doc(ApiClient.skelton)"
   ]
  },
  {
   "cell_type": "code",
   "execution_count": null,
   "metadata": {},
   "outputs": [],
   "source": [
    "ins.skelton()"
   ]
  },
  {
   "cell_type": "code",
   "execution_count": null,
   "metadata": {},
   "outputs": [
    {
     "data": {
      "text/plain": [
       "<matplotlib.image.AxesImage>"
      ]
     },
     "execution_count": null,
     "metadata": {},
     "output_type": "execute_result"
    },
    {
     "data": {
      "image/png": "[encoded data removed]",
      "text/plain": [
       "<Figure size 640x480 with 1 Axes>"
      ]
     },
     "metadata": {},
     "output_type": "display_data"
    }
   ],
   "source": [
    "plt.imshow(mpimg.imread(ins.skelton_path),cmap=\"gray\")"
   ]
  },
  {
   "cell_type": "code",
   "execution_count": null,
   "metadata": {},
   "outputs": [],
   "source": [
    "#| hide\n",
    "import nbdev; nbdev.nbdev_export()"
   ]
  }
 ],
 "metadata": {
  "kernelspec": {
   "display_name": "Python 3.7.13 ('base')",
   "language": "python",
   "name": "python3"
  }
 },
 "nbformat": 4,
 "nbformat_minor": 4
}
